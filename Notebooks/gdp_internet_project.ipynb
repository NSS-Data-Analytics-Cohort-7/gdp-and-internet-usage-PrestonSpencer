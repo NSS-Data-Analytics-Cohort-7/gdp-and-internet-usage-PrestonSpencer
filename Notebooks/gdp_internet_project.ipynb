{
 "cells": [
  {
   "cell_type": "code",
   "execution_count": 1,
   "id": "9e416aa8",
   "metadata": {},
   "outputs": [],
   "source": [
    "import pandas as pd\n",
    "import numpy as np\n",
    "import matplotlib.pyplot as plt\n",
    "import seaborn as sns"
   ]
  },
  {
   "cell_type": "code",
   "execution_count": 2,
   "id": "a7b7c0dd",
   "metadata": {},
   "outputs": [],
   "source": [
    "%matplotlib inline"
   ]
  },
  {
   "cell_type": "markdown",
   "id": "71133871",
   "metadata": {},
   "source": [
    "5.\tUsing the pandas `read_csv()` method, read the GDP dataset into your notebook as a DataFrame called `gdp_df`. Take a look at the first 6 rows."
   ]
  },
  {
   "cell_type": "code",
   "execution_count": 3,
   "id": "e20f23a2",
   "metadata": {},
   "outputs": [
    {
     "name": "stdout",
     "output_type": "stream",
     "text": [
      "  Country or Area  Year        Value  Value Footnotes\n",
      "0     Afghanistan  2019  2065.036398              NaN\n",
      "1     Afghanistan  2018  2033.779002              NaN\n",
      "2     Afghanistan  2017  2058.383832              NaN\n",
      "3     Afghanistan  2016  2057.062164              NaN\n",
      "4     Afghanistan  2015  2068.265904              NaN\n",
      "5     Afghanistan  2014  2102.385234              NaN\n"
     ]
    }
   ],
   "source": [
    "gdp_df = pd.read_csv(\"../Data/gdp_percapita.csv\", nrows=6868)\n",
    "result = gdp_df.head(6)\n",
    "print(result)"
   ]
  },
  {
   "cell_type": "markdown",
   "id": "4224ae58",
   "metadata": {},
   "source": [
    "6. Repeat for the internet use dataset. Call this DataFrame `internet_df`. Take a look at the first six rows."
   ]
  },
  {
   "cell_type": "code",
   "execution_count": 4,
   "id": "d640ef4d",
   "metadata": {
    "scrolled": true
   },
   "outputs": [
    {
     "name": "stdout",
     "output_type": "stream",
     "text": [
      "  Country or Area  Year     Value  Value Footnotes\n",
      "0     Afghanistan  2014  6.390000              NaN\n",
      "1     Afghanistan  2013  5.900000              NaN\n",
      "2     Afghanistan  2012  5.454545              NaN\n",
      "3     Afghanistan  2011  5.000000              NaN\n",
      "4     Afghanistan  2010  4.000000              NaN\n",
      "5     Afghanistan  2009  3.550000              NaN\n"
     ]
    }
   ],
   "source": [
    "internet_df = pd.read_csv(\"../Data/internet_use.csv\", nrows=4495)\n",
    "result = internet_df.head(6)\n",
    "print(result)"
   ]
  },
  {
   "cell_type": "markdown",
   "id": "5c139b36",
   "metadata": {},
   "source": [
    "7. Look at the shape of each DataFrame - how many rows? How many columns?"
   ]
  },
  {
   "cell_type": "code",
   "execution_count": 5,
   "id": "6dd82594",
   "metadata": {},
   "outputs": [
    {
     "name": "stdout",
     "output_type": "stream",
     "text": [
      "<class 'pandas.core.frame.DataFrame'>\n",
      "RangeIndex: 6868 entries, 0 to 6867\n",
      "Data columns (total 4 columns):\n",
      " #   Column           Non-Null Count  Dtype  \n",
      "---  ------           --------------  -----  \n",
      " 0   Country or Area  6868 non-null   object \n",
      " 1   Year             6868 non-null   int64  \n",
      " 2   Value            6868 non-null   float64\n",
      " 3   Value Footnotes  1 non-null      float64\n",
      "dtypes: float64(2), int64(1), object(1)\n",
      "memory usage: 214.8+ KB\n",
      "None\n",
      "<class 'pandas.core.frame.DataFrame'>\n",
      "RangeIndex: 4495 entries, 0 to 4494\n",
      "Data columns (total 4 columns):\n",
      " #   Column           Non-Null Count  Dtype  \n",
      "---  ------           --------------  -----  \n",
      " 0   Country or Area  4495 non-null   object \n",
      " 1   Year             4495 non-null   int64  \n",
      " 2   Value            4495 non-null   float64\n",
      " 3   Value Footnotes  948 non-null    float64\n",
      "dtypes: float64(2), int64(1), object(1)\n",
      "memory usage: 140.6+ KB\n",
      "None\n"
     ]
    }
   ],
   "source": [
    "print(pd.DataFrame.info(gdp_df))\n",
    "print(pd.DataFrame.info(internet_df))"
   ]
  },
  {
   "cell_type": "markdown",
   "id": "85602a3e",
   "metadata": {},
   "source": [
    "8. Take a look at the datatypes for the columns in each DataFrame."
   ]
  },
  {
   "cell_type": "code",
   "execution_count": 6,
   "id": "38f91ad6",
   "metadata": {},
   "outputs": [
    {
     "name": "stdout",
     "output_type": "stream",
     "text": [
      "Country or Area     object\n",
      "Year                 int64\n",
      "Value              float64\n",
      "Value Footnotes    float64\n",
      "dtype: object\n",
      "Country or Area     object\n",
      "Year                 int64\n",
      "Value              float64\n",
      "Value Footnotes    float64\n",
      "dtype: object\n"
     ]
    }
   ],
   "source": [
    "print(gdp_df.dtypes)\n",
    "print(internet_df.dtypes)"
   ]
  },
  {
   "cell_type": "markdown",
   "id": "529ddb6b",
   "metadata": {},
   "source": [
    "9. Take a look at the last 10 rows of each DataFrame in turn."
   ]
  },
  {
   "cell_type": "code",
   "execution_count": 7,
   "id": "5399f623",
   "metadata": {},
   "outputs": [
    {
     "name": "stdout",
     "output_type": "stream",
     "text": [
      "     Country or Area  Year        Value  Value Footnotes\n",
      "6858        Zimbabwe  1999  3600.849291              NaN\n",
      "6859        Zimbabwe  1998  3653.920016              NaN\n",
      "6860        Zimbabwe  1997  3580.048793              NaN\n",
      "6861        Zimbabwe  1996  3520.430146              NaN\n",
      "6862        Zimbabwe  1995  3226.413930              NaN\n",
      "6863        Zimbabwe  1994  3263.934978              NaN\n",
      "6864        Zimbabwe  1993  3033.504852              NaN\n",
      "6865        Zimbabwe  1992  3054.889178              NaN\n",
      "6866        Zimbabwe  1991  3426.598094              NaN\n",
      "6867        Zimbabwe  1990  3324.348171              NaN\n",
      "     Country or Area  Year     Value  Value Footnotes\n",
      "4485        Zimbabwe  2002  3.994356              NaN\n",
      "4486        Zimbabwe  2001  0.799846              NaN\n",
      "4487        Zimbabwe  2000  0.401434              NaN\n",
      "4488        Zimbabwe  1999  0.161676              NaN\n",
      "4489        Zimbabwe  1998  0.081648              NaN\n",
      "4490        Zimbabwe  1997  0.033080              NaN\n",
      "4491        Zimbabwe  1996  0.016790              NaN\n",
      "4492        Zimbabwe  1995  0.007684              NaN\n",
      "4493        Zimbabwe  1994  0.001739              NaN\n",
      "4494        Zimbabwe  1990  0.000000              NaN\n"
     ]
    }
   ],
   "source": [
    "print(gdp_df.tail(10))\n",
    "print(internet_df.tail(10))"
   ]
  },
  {
   "cell_type": "markdown",
   "id": "04825378",
   "metadata": {},
   "source": [
    "10. Drop the value footnotes column from both DataFrames. Check that this worked as expected."
   ]
  },
  {
   "cell_type": "code",
   "execution_count": 8,
   "id": "a32dbd3b",
   "metadata": {},
   "outputs": [
    {
     "name": "stdout",
     "output_type": "stream",
     "text": [
      "     Country or Area  Year        Value\n",
      "0        Afghanistan  2019  2065.036398\n",
      "1        Afghanistan  2018  2033.779002\n",
      "2        Afghanistan  2017  2058.383832\n",
      "3        Afghanistan  2016  2057.062164\n",
      "4        Afghanistan  2015  2068.265904\n",
      "...              ...   ...          ...\n",
      "6863        Zimbabwe  1994  3263.934978\n",
      "6864        Zimbabwe  1993  3033.504852\n",
      "6865        Zimbabwe  1992  3054.889178\n",
      "6866        Zimbabwe  1991  3426.598094\n",
      "6867        Zimbabwe  1990  3324.348171\n",
      "\n",
      "[6868 rows x 3 columns]\n"
     ]
    }
   ],
   "source": [
    "gdp_df.drop([\"Value Footnotes\"], axis=1, inplace=True)\n",
    "print(gdp_df)"
   ]
  },
  {
   "cell_type": "code",
   "execution_count": 9,
   "id": "d522c88d",
   "metadata": {},
   "outputs": [
    {
     "name": "stdout",
     "output_type": "stream",
     "text": [
      "     Country or Area  Year     Value\n",
      "0        Afghanistan  2014  6.390000\n",
      "1        Afghanistan  2013  5.900000\n",
      "2        Afghanistan  2012  5.454545\n",
      "3        Afghanistan  2011  5.000000\n",
      "4        Afghanistan  2010  4.000000\n",
      "...              ...   ...       ...\n",
      "4490        Zimbabwe  1997  0.033080\n",
      "4491        Zimbabwe  1996  0.016790\n",
      "4492        Zimbabwe  1995  0.007684\n",
      "4493        Zimbabwe  1994  0.001739\n",
      "4494        Zimbabwe  1990  0.000000\n",
      "\n",
      "[4495 rows x 3 columns]\n"
     ]
    }
   ],
   "source": [
    "internet_df.drop([\"Value Footnotes\"], axis=1, inplace=True)\n",
    "print(internet_df)"
   ]
  },
  {
   "cell_type": "markdown",
   "id": "255ff1df",
   "metadata": {},
   "source": [
    "11. Change the columns for the GDP Per Capita DataFrame to ‘Country’, ‘Year’, and ‘GDP_Per_Capita’."
   ]
  },
  {
   "cell_type": "code",
   "execution_count": 10,
   "id": "2de7b597",
   "metadata": {},
   "outputs": [
    {
     "name": "stdout",
     "output_type": "stream",
     "text": [
      "          Country  Year  GDP_Per_Capita\n",
      "0     Afghanistan  2019     2065.036398\n",
      "1     Afghanistan  2018     2033.779002\n",
      "2     Afghanistan  2017     2058.383832\n",
      "3     Afghanistan  2016     2057.062164\n",
      "4     Afghanistan  2015     2068.265904\n",
      "...           ...   ...             ...\n",
      "6863     Zimbabwe  1994     3263.934978\n",
      "6864     Zimbabwe  1993     3033.504852\n",
      "6865     Zimbabwe  1992     3054.889178\n",
      "6866     Zimbabwe  1991     3426.598094\n",
      "6867     Zimbabwe  1990     3324.348171\n",
      "\n",
      "[6868 rows x 3 columns]\n"
     ]
    }
   ],
   "source": [
    "gdp_df.rename(columns = {\"Country or Area\":\"Country\",\"Value\":\"GDP_Per_Capita\"}, inplace=True)\n",
    "print(gdp_df)"
   ]
  },
  {
   "cell_type": "markdown",
   "id": "ac4f503a",
   "metadata": {},
   "source": [
    "12. Change the columns for the Internet Users DataFrame to ‘Country’, ‘Year’, and ‘Internet_Users_Pct’."
   ]
  },
  {
   "cell_type": "code",
   "execution_count": 11,
   "id": "5157af41",
   "metadata": {},
   "outputs": [
    {
     "name": "stdout",
     "output_type": "stream",
     "text": [
      "          Country  Year  Internet_Users_Pct\n",
      "0     Afghanistan  2014            6.390000\n",
      "1     Afghanistan  2013            5.900000\n",
      "2     Afghanistan  2012            5.454545\n",
      "3     Afghanistan  2011            5.000000\n",
      "4     Afghanistan  2010            4.000000\n",
      "...           ...   ...                 ...\n",
      "4490     Zimbabwe  1997            0.033080\n",
      "4491     Zimbabwe  1996            0.016790\n",
      "4492     Zimbabwe  1995            0.007684\n",
      "4493     Zimbabwe  1994            0.001739\n",
      "4494     Zimbabwe  1990            0.000000\n",
      "\n",
      "[4495 rows x 3 columns]\n"
     ]
    }
   ],
   "source": [
    "internet_df.rename(columns = {\"Country or Area\":\"Country\",\"Value\":\"Internet_Users_Pct\"}, inplace=True)\n",
    "print(internet_df)"
   ]
  },
  {
   "cell_type": "markdown",
   "id": "fc6436d2",
   "metadata": {},
   "source": [
    "13. Merge the two DataFrames to one. Merge all rows from each of the two DataFrames. Call the new DataFrame gdp_and_internet_use."
   ]
  },
  {
   "cell_type": "code",
   "execution_count": 36,
   "id": "b405d55e",
   "metadata": {},
   "outputs": [
    {
     "name": "stdout",
     "output_type": "stream",
     "text": [
      "          Country  Year  GDP_Per_Capita  Internet_Users_Pct\n",
      "0     Afghanistan  2019     2065.036398                 NaN\n",
      "1     Afghanistan  2018     2033.779002                 NaN\n",
      "2     Afghanistan  2017     2058.383832                 NaN\n",
      "3     Afghanistan  2016     2057.062164                 NaN\n",
      "4     Afghanistan  2015     2068.265904                 NaN\n",
      "...           ...   ...             ...                 ...\n",
      "6863     Zimbabwe  1994     3263.934978            0.001739\n",
      "6864     Zimbabwe  1993     3033.504852                 NaN\n",
      "6865     Zimbabwe  1992     3054.889178                 NaN\n",
      "6866     Zimbabwe  1991     3426.598094                 NaN\n",
      "6867     Zimbabwe  1990     3324.348171            0.000000\n",
      "\n",
      "[6868 rows x 4 columns]\n"
     ]
    }
   ],
   "source": [
    "gdp_and_internet_use = pd.merge(gdp_df, internet_df, on=[\"Country\", \"Year\"], how=\"left\")\n",
    "print(gdp_and_internet_use)"
   ]
  },
  {
   "cell_type": "markdown",
   "id": "d7bd6e08",
   "metadata": {},
   "source": [
    "14. Look at the first five rows of your new DataFrame to confirm it merged correctly."
   ]
  },
  {
   "cell_type": "code",
   "execution_count": 38,
   "id": "f236be1a",
   "metadata": {},
   "outputs": [
    {
     "name": "stdout",
     "output_type": "stream",
     "text": [
      "       Country  Year  GDP_Per_Capita  Internet_Users_Pct\n",
      "0  Afghanistan  2019     2065.036398                 NaN\n",
      "1  Afghanistan  2018     2033.779002                 NaN\n",
      "2  Afghanistan  2017     2058.383832                 NaN\n",
      "3  Afghanistan  2016     2057.062164                 NaN\n",
      "4  Afghanistan  2015     2068.265904                 NaN\n"
     ]
    }
   ],
   "source": [
    "print(gdp_and_internet_use.head(5))"
   ]
  },
  {
   "cell_type": "markdown",
   "id": "a766da39",
   "metadata": {},
   "source": [
    "15. Look at the last five rows to make sure the data is clean and as expected."
   ]
  },
  {
   "cell_type": "code",
   "execution_count": 37,
   "id": "e0174535",
   "metadata": {},
   "outputs": [
    {
     "name": "stdout",
     "output_type": "stream",
     "text": [
      "       Country  Year  GDP_Per_Capita  Internet_Users_Pct\n",
      "6863  Zimbabwe  1994     3263.934978            0.001739\n",
      "6864  Zimbabwe  1993     3033.504852                 NaN\n",
      "6865  Zimbabwe  1992     3054.889178                 NaN\n",
      "6866  Zimbabwe  1991     3426.598094                 NaN\n",
      "6867  Zimbabwe  1990     3324.348171            0.000000\n"
     ]
    }
   ],
   "source": [
    "print(gdp_and_internet_use.tail(5))"
   ]
  },
  {
   "cell_type": "markdown",
   "id": "bc7353c6",
   "metadata": {},
   "source": [
    "16. Subset the combined DataFrame to keep only the data for 2004, 2009, and 2014. Check that this happened correctly."
   ]
  },
  {
   "cell_type": "code",
   "execution_count": 39,
   "id": "bb56331e",
   "metadata": {},
   "outputs": [
    {
     "data": {
      "text/html": [
       "<div>\n",
       "<style scoped>\n",
       "    .dataframe tbody tr th:only-of-type {\n",
       "        vertical-align: middle;\n",
       "    }\n",
       "\n",
       "    .dataframe tbody tr th {\n",
       "        vertical-align: top;\n",
       "    }\n",
       "\n",
       "    .dataframe thead th {\n",
       "        text-align: right;\n",
       "    }\n",
       "</style>\n",
       "<table border=\"1\" class=\"dataframe\">\n",
       "  <thead>\n",
       "    <tr style=\"text-align: right;\">\n",
       "      <th></th>\n",
       "      <th>Country</th>\n",
       "      <th>Year</th>\n",
       "      <th>GDP_Per_Capita</th>\n",
       "      <th>Internet_Users_Pct</th>\n",
       "    </tr>\n",
       "  </thead>\n",
       "  <tbody>\n",
       "    <tr>\n",
       "      <th>5</th>\n",
       "      <td>Afghanistan</td>\n",
       "      <td>2014</td>\n",
       "      <td>2102.385234</td>\n",
       "      <td>6.390000</td>\n",
       "    </tr>\n",
       "    <tr>\n",
       "      <th>10</th>\n",
       "      <td>Afghanistan</td>\n",
       "      <td>2009</td>\n",
       "      <td>1758.904043</td>\n",
       "      <td>3.550000</td>\n",
       "    </tr>\n",
       "    <tr>\n",
       "      <th>15</th>\n",
       "      <td>Afghanistan</td>\n",
       "      <td>2004</td>\n",
       "      <td>1200.278256</td>\n",
       "      <td>0.105809</td>\n",
       "    </tr>\n",
       "    <tr>\n",
       "      <th>23</th>\n",
       "      <td>Albania</td>\n",
       "      <td>2014</td>\n",
       "      <td>11623.866679</td>\n",
       "      <td>60.100000</td>\n",
       "    </tr>\n",
       "    <tr>\n",
       "      <th>28</th>\n",
       "      <td>Albania</td>\n",
       "      <td>2009</td>\n",
       "      <td>10346.864199</td>\n",
       "      <td>41.200000</td>\n",
       "    </tr>\n",
       "    <tr>\n",
       "      <th>...</th>\n",
       "      <td>...</td>\n",
       "      <td>...</td>\n",
       "      <td>...</td>\n",
       "      <td>...</td>\n",
       "    </tr>\n",
       "    <tr>\n",
       "      <th>6818</th>\n",
       "      <td>Zambia</td>\n",
       "      <td>2009</td>\n",
       "      <td>2917.516220</td>\n",
       "      <td>6.310000</td>\n",
       "    </tr>\n",
       "    <tr>\n",
       "      <th>6823</th>\n",
       "      <td>Zambia</td>\n",
       "      <td>2004</td>\n",
       "      <td>2261.766537</td>\n",
       "      <td>2.013550</td>\n",
       "    </tr>\n",
       "    <tr>\n",
       "      <th>6843</th>\n",
       "      <td>Zimbabwe</td>\n",
       "      <td>2014</td>\n",
       "      <td>2955.240287</td>\n",
       "      <td>19.890000</td>\n",
       "    </tr>\n",
       "    <tr>\n",
       "      <th>6848</th>\n",
       "      <td>Zimbabwe</td>\n",
       "      <td>2009</td>\n",
       "      <td>1925.364381</td>\n",
       "      <td>11.360000</td>\n",
       "    </tr>\n",
       "    <tr>\n",
       "      <th>6853</th>\n",
       "      <td>Zimbabwe</td>\n",
       "      <td>2004</td>\n",
       "      <td>2480.859342</td>\n",
       "      <td>6.564045</td>\n",
       "    </tr>\n",
       "  </tbody>\n",
       "</table>\n",
       "<p>708 rows × 4 columns</p>\n",
       "</div>"
      ],
      "text/plain": [
       "          Country  Year  GDP_Per_Capita  Internet_Users_Pct\n",
       "5     Afghanistan  2014     2102.385234            6.390000\n",
       "10    Afghanistan  2009     1758.904043            3.550000\n",
       "15    Afghanistan  2004     1200.278256            0.105809\n",
       "23        Albania  2014    11623.866679           60.100000\n",
       "28        Albania  2009    10346.864199           41.200000\n",
       "...           ...   ...             ...                 ...\n",
       "6818       Zambia  2009     2917.516220            6.310000\n",
       "6823       Zambia  2004     2261.766537            2.013550\n",
       "6843     Zimbabwe  2014     2955.240287           19.890000\n",
       "6848     Zimbabwe  2009     1925.364381           11.360000\n",
       "6853     Zimbabwe  2004     2480.859342            6.564045\n",
       "\n",
       "[708 rows x 4 columns]"
      ]
     },
     "execution_count": 39,
     "metadata": {},
     "output_type": "execute_result"
    }
   ],
   "source": [
    "gdp_and_internet_use[(gdp_and_internet_use[\"Year\"] == 2004) | (gdp_and_internet_use[\"Year\"] == 2009) | (gdp_and_internet_use[\"Year\"] == 2014)]"
   ]
  },
  {
   "cell_type": "code",
   "execution_count": null,
   "id": "13d0e04c",
   "metadata": {},
   "outputs": [],
   "source": []
  }
 ],
 "metadata": {
  "kernelspec": {
   "display_name": "Python 3 (ipykernel)",
   "language": "python",
   "name": "python3"
  },
  "language_info": {
   "codemirror_mode": {
    "name": "ipython",
    "version": 3
   },
   "file_extension": ".py",
   "mimetype": "text/x-python",
   "name": "python",
   "nbconvert_exporter": "python",
   "pygments_lexer": "ipython3",
   "version": "3.9.12"
  }
 },
 "nbformat": 4,
 "nbformat_minor": 5
}
