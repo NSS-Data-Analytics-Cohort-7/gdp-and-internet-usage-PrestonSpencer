{
 "cells": [
  {
   "cell_type": "code",
   "execution_count": 1,
   "id": "9e416aa8",
   "metadata": {},
   "outputs": [],
   "source": [
    "import pandas as pd\n",
    "import numpy as np\n",
    "import matplotlib.pyplot as plt\n",
    "import seaborn as sns"
   ]
  },
  {
   "cell_type": "code",
   "execution_count": 2,
   "id": "a7b7c0dd",
   "metadata": {},
   "outputs": [],
   "source": [
    "%matplotlib inline"
   ]
  },
  {
   "cell_type": "markdown",
   "id": "71133871",
   "metadata": {},
   "source": [
    "5.\tUsing the pandas `read_csv()` method, read the GDP dataset into your notebook as a DataFrame called `gdp_df`. Take a look at the first 6 rows."
   ]
  },
  {
   "cell_type": "code",
   "execution_count": 3,
   "id": "e20f23a2",
   "metadata": {},
   "outputs": [
    {
     "name": "stdout",
     "output_type": "stream",
     "text": [
      "  Country or Area  Year        Value  Value Footnotes\n",
      "0     Afghanistan  2019  2065.036398              NaN\n",
      "1     Afghanistan  2018  2033.779002              NaN\n",
      "2     Afghanistan  2017  2058.383832              NaN\n",
      "3     Afghanistan  2016  2057.062164              NaN\n",
      "4     Afghanistan  2015  2068.265904              NaN\n",
      "5     Afghanistan  2014  2102.385234              NaN\n"
     ]
    }
   ],
   "source": [
    "gdp_df = pd.read_csv(\"../Data/gdp_percapita.csv\", nrows=6868)\n",
    "result = gdp_df.head(6)\n",
    "print(result)"
   ]
  },
  {
   "cell_type": "markdown",
   "id": "4224ae58",
   "metadata": {},
   "source": [
    "6. Repeat for the internet use dataset. Call this DataFrame `internet_df`. Take a look at the first six rows."
   ]
  },
  {
   "cell_type": "code",
   "execution_count": 4,
   "id": "d640ef4d",
   "metadata": {
    "scrolled": true
   },
   "outputs": [
    {
     "name": "stdout",
     "output_type": "stream",
     "text": [
      "  Country or Area  Year     Value  Value Footnotes\n",
      "0     Afghanistan  2014  6.390000              NaN\n",
      "1     Afghanistan  2013  5.900000              NaN\n",
      "2     Afghanistan  2012  5.454545              NaN\n",
      "3     Afghanistan  2011  5.000000              NaN\n",
      "4     Afghanistan  2010  4.000000              NaN\n",
      "5     Afghanistan  2009  3.550000              NaN\n"
     ]
    }
   ],
   "source": [
    "internet_df = pd.read_csv(\"../Data/internet_use.csv\", nrows=4495)\n",
    "result = internet_df.head(6)\n",
    "print(result)"
   ]
  },
  {
   "cell_type": "markdown",
   "id": "5c139b36",
   "metadata": {},
   "source": [
    "7. Look at the shape of each DataFrame - how many rows? How many columns?"
   ]
  },
  {
   "cell_type": "code",
   "execution_count": 5,
   "id": "6dd82594",
   "metadata": {},
   "outputs": [
    {
     "name": "stdout",
     "output_type": "stream",
     "text": [
      "<class 'pandas.core.frame.DataFrame'>\n",
      "RangeIndex: 6868 entries, 0 to 6867\n",
      "Data columns (total 4 columns):\n",
      " #   Column           Non-Null Count  Dtype  \n",
      "---  ------           --------------  -----  \n",
      " 0   Country or Area  6868 non-null   object \n",
      " 1   Year             6868 non-null   int64  \n",
      " 2   Value            6868 non-null   float64\n",
      " 3   Value Footnotes  1 non-null      float64\n",
      "dtypes: float64(2), int64(1), object(1)\n",
      "memory usage: 214.8+ KB\n",
      "None\n",
      "<class 'pandas.core.frame.DataFrame'>\n",
      "RangeIndex: 4495 entries, 0 to 4494\n",
      "Data columns (total 4 columns):\n",
      " #   Column           Non-Null Count  Dtype  \n",
      "---  ------           --------------  -----  \n",
      " 0   Country or Area  4495 non-null   object \n",
      " 1   Year             4495 non-null   int64  \n",
      " 2   Value            4495 non-null   float64\n",
      " 3   Value Footnotes  948 non-null    float64\n",
      "dtypes: float64(2), int64(1), object(1)\n",
      "memory usage: 140.6+ KB\n",
      "None\n"
     ]
    }
   ],
   "source": [
    "print(pd.DataFrame.info(gdp_df))\n",
    "print(pd.DataFrame.info(internet_df))"
   ]
  },
  {
   "cell_type": "markdown",
   "id": "85602a3e",
   "metadata": {},
   "source": [
    "8. Take a look at the datatypes for the columns in each DataFrame."
   ]
  },
  {
   "cell_type": "code",
   "execution_count": 6,
   "id": "38f91ad6",
   "metadata": {},
   "outputs": [
    {
     "name": "stdout",
     "output_type": "stream",
     "text": [
      "Country or Area     object\n",
      "Year                 int64\n",
      "Value              float64\n",
      "Value Footnotes    float64\n",
      "dtype: object\n",
      "Country or Area     object\n",
      "Year                 int64\n",
      "Value              float64\n",
      "Value Footnotes    float64\n",
      "dtype: object\n"
     ]
    }
   ],
   "source": [
    "print(gdp_df.dtypes)\n",
    "print(internet_df.dtypes)"
   ]
  },
  {
   "cell_type": "markdown",
   "id": "529ddb6b",
   "metadata": {},
   "source": [
    "9. Take a look at the last 10 rows of each DataFrame in turn."
   ]
  },
  {
   "cell_type": "code",
   "execution_count": 7,
   "id": "5399f623",
   "metadata": {},
   "outputs": [
    {
     "name": "stdout",
     "output_type": "stream",
     "text": [
      "     Country or Area  Year        Value  Value Footnotes\n",
      "6858        Zimbabwe  1999  3600.849291              NaN\n",
      "6859        Zimbabwe  1998  3653.920016              NaN\n",
      "6860        Zimbabwe  1997  3580.048793              NaN\n",
      "6861        Zimbabwe  1996  3520.430146              NaN\n",
      "6862        Zimbabwe  1995  3226.413930              NaN\n",
      "6863        Zimbabwe  1994  3263.934978              NaN\n",
      "6864        Zimbabwe  1993  3033.504852              NaN\n",
      "6865        Zimbabwe  1992  3054.889178              NaN\n",
      "6866        Zimbabwe  1991  3426.598094              NaN\n",
      "6867        Zimbabwe  1990  3324.348171              NaN\n",
      "     Country or Area  Year     Value  Value Footnotes\n",
      "4485        Zimbabwe  2002  3.994356              NaN\n",
      "4486        Zimbabwe  2001  0.799846              NaN\n",
      "4487        Zimbabwe  2000  0.401434              NaN\n",
      "4488        Zimbabwe  1999  0.161676              NaN\n",
      "4489        Zimbabwe  1998  0.081648              NaN\n",
      "4490        Zimbabwe  1997  0.033080              NaN\n",
      "4491        Zimbabwe  1996  0.016790              NaN\n",
      "4492        Zimbabwe  1995  0.007684              NaN\n",
      "4493        Zimbabwe  1994  0.001739              NaN\n",
      "4494        Zimbabwe  1990  0.000000              NaN\n"
     ]
    }
   ],
   "source": [
    "print(gdp_df.tail(10))\n",
    "print(internet_df.tail(10))"
   ]
  },
  {
   "cell_type": "markdown",
   "id": "04825378",
   "metadata": {},
   "source": [
    "10. Drop the value footnotes column from both DataFrames. Check that this worked as expected."
   ]
  },
  {
   "cell_type": "code",
   "execution_count": 8,
   "id": "a32dbd3b",
   "metadata": {},
   "outputs": [
    {
     "name": "stdout",
     "output_type": "stream",
     "text": [
      "     Country or Area  Year        Value\n",
      "0        Afghanistan  2019  2065.036398\n",
      "1        Afghanistan  2018  2033.779002\n",
      "2        Afghanistan  2017  2058.383832\n",
      "3        Afghanistan  2016  2057.062164\n",
      "4        Afghanistan  2015  2068.265904\n",
      "...              ...   ...          ...\n",
      "6863        Zimbabwe  1994  3263.934978\n",
      "6864        Zimbabwe  1993  3033.504852\n",
      "6865        Zimbabwe  1992  3054.889178\n",
      "6866        Zimbabwe  1991  3426.598094\n",
      "6867        Zimbabwe  1990  3324.348171\n",
      "\n",
      "[6868 rows x 3 columns]\n"
     ]
    }
   ],
   "source": [
    "gdp_df.drop([\"Value Footnotes\"], axis=1, inplace=True)\n",
    "print(gdp_df)"
   ]
  },
  {
   "cell_type": "code",
   "execution_count": 9,
   "id": "d522c88d",
   "metadata": {},
   "outputs": [
    {
     "name": "stdout",
     "output_type": "stream",
     "text": [
      "     Country or Area  Year     Value\n",
      "0        Afghanistan  2014  6.390000\n",
      "1        Afghanistan  2013  5.900000\n",
      "2        Afghanistan  2012  5.454545\n",
      "3        Afghanistan  2011  5.000000\n",
      "4        Afghanistan  2010  4.000000\n",
      "...              ...   ...       ...\n",
      "4490        Zimbabwe  1997  0.033080\n",
      "4491        Zimbabwe  1996  0.016790\n",
      "4492        Zimbabwe  1995  0.007684\n",
      "4493        Zimbabwe  1994  0.001739\n",
      "4494        Zimbabwe  1990  0.000000\n",
      "\n",
      "[4495 rows x 3 columns]\n"
     ]
    }
   ],
   "source": [
    "internet_df.drop([\"Value Footnotes\"], axis=1, inplace=True)\n",
    "print(internet_df)"
   ]
  },
  {
   "cell_type": "markdown",
   "id": "255ff1df",
   "metadata": {},
   "source": [
    "11. Change the columns for the GDP Per Capita DataFrame to ‘Country’, ‘Year’, and ‘GDP_Per_Capita’."
   ]
  },
  {
   "cell_type": "code",
   "execution_count": 10,
   "id": "2de7b597",
   "metadata": {},
   "outputs": [
    {
     "name": "stdout",
     "output_type": "stream",
     "text": [
      "          Country  Year  GDP_Per_Capita\n",
      "0     Afghanistan  2019     2065.036398\n",
      "1     Afghanistan  2018     2033.779002\n",
      "2     Afghanistan  2017     2058.383832\n",
      "3     Afghanistan  2016     2057.062164\n",
      "4     Afghanistan  2015     2068.265904\n",
      "...           ...   ...             ...\n",
      "6863     Zimbabwe  1994     3263.934978\n",
      "6864     Zimbabwe  1993     3033.504852\n",
      "6865     Zimbabwe  1992     3054.889178\n",
      "6866     Zimbabwe  1991     3426.598094\n",
      "6867     Zimbabwe  1990     3324.348171\n",
      "\n",
      "[6868 rows x 3 columns]\n"
     ]
    }
   ],
   "source": [
    "gdp_df.rename(columns = {\"Country or Area\":\"Country\",\"Value\":\"GDP_Per_Capita\"}, inplace=True)\n",
    "print(gdp_df)"
   ]
  },
  {
   "cell_type": "markdown",
   "id": "ac4f503a",
   "metadata": {},
   "source": [
    "12. Change the columns for the Internet Users DataFrame to ‘Country’, ‘Year’, and ‘Internet_Users_Pct’."
   ]
  },
  {
   "cell_type": "code",
   "execution_count": 11,
   "id": "5157af41",
   "metadata": {},
   "outputs": [
    {
     "name": "stdout",
     "output_type": "stream",
     "text": [
      "          Country  Year  Internet_Users_Pct\n",
      "0     Afghanistan  2014            6.390000\n",
      "1     Afghanistan  2013            5.900000\n",
      "2     Afghanistan  2012            5.454545\n",
      "3     Afghanistan  2011            5.000000\n",
      "4     Afghanistan  2010            4.000000\n",
      "...           ...   ...                 ...\n",
      "4490     Zimbabwe  1997            0.033080\n",
      "4491     Zimbabwe  1996            0.016790\n",
      "4492     Zimbabwe  1995            0.007684\n",
      "4493     Zimbabwe  1994            0.001739\n",
      "4494     Zimbabwe  1990            0.000000\n",
      "\n",
      "[4495 rows x 3 columns]\n"
     ]
    }
   ],
   "source": [
    "internet_df.rename(columns = {\"Country or Area\":\"Country\",\"Value\":\"Internet_Users_Pct\"}, inplace=True)\n",
    "print(internet_df)"
   ]
  },
  {
   "cell_type": "markdown",
   "id": "fc6436d2",
   "metadata": {},
   "source": [
    "13. Merge the two DataFrames to one. Merge all rows from each of the two DataFrames. Call the new DataFrame gdp_and_internet_use."
   ]
  },
  {
   "cell_type": "code",
   "execution_count": 12,
   "id": "b405d55e",
   "metadata": {},
   "outputs": [
    {
     "name": "stdout",
     "output_type": "stream",
     "text": [
      "          Country  Year  GDP_Per_Capita  Internet_Users_Pct\n",
      "0     Afghanistan  2019     2065.036398                 NaN\n",
      "1     Afghanistan  2018     2033.779002                 NaN\n",
      "2     Afghanistan  2017     2058.383832                 NaN\n",
      "3     Afghanistan  2016     2057.062164                 NaN\n",
      "4     Afghanistan  2015     2068.265904                 NaN\n",
      "...           ...   ...             ...                 ...\n",
      "7900        Yemen  1999             NaN            0.056629\n",
      "7901        Yemen  1998             NaN            0.023323\n",
      "7902        Yemen  1997             NaN            0.015025\n",
      "7903        Yemen  1996             NaN            0.000621\n",
      "7904        Yemen  1990             NaN            0.000000\n",
      "\n",
      "[7905 rows x 4 columns]\n"
     ]
    }
   ],
   "source": [
    "gdp_and_internet_use = pd.merge(gdp_df, internet_df, on=[\"Country\", \"Year\"], how=\"outer\")\n",
    "print(gdp_and_internet_use)"
   ]
  },
  {
   "cell_type": "markdown",
   "id": "0c26adb4",
   "metadata": {},
   "source": [
    "14. Look at the first five rows of your new DataFrame to confirm it merged correctly."
   ]
  },
  {
   "cell_type": "code",
   "execution_count": 13,
   "id": "3842e052",
   "metadata": {},
   "outputs": [
    {
     "name": "stdout",
     "output_type": "stream",
     "text": [
      "       Country  Year  GDP_Per_Capita  Internet_Users_Pct\n",
      "0  Afghanistan  2019     2065.036398                 NaN\n",
      "1  Afghanistan  2018     2033.779002                 NaN\n",
      "2  Afghanistan  2017     2058.383832                 NaN\n",
      "3  Afghanistan  2016     2057.062164                 NaN\n",
      "4  Afghanistan  2015     2068.265904                 NaN\n"
     ]
    }
   ],
   "source": [
    "print(gdp_and_internet_use.head(5))"
   ]
  },
  {
   "cell_type": "markdown",
   "id": "e60a6a21",
   "metadata": {},
   "source": [
    "15. Look at the last five rows to make sure the data is clean and as expected."
   ]
  },
  {
   "cell_type": "code",
   "execution_count": 14,
   "id": "62b60363",
   "metadata": {},
   "outputs": [
    {
     "name": "stdout",
     "output_type": "stream",
     "text": [
      "     Country  Year  GDP_Per_Capita  Internet_Users_Pct\n",
      "7900   Yemen  1999             NaN            0.056629\n",
      "7901   Yemen  1998             NaN            0.023323\n",
      "7902   Yemen  1997             NaN            0.015025\n",
      "7903   Yemen  1996             NaN            0.000621\n",
      "7904   Yemen  1990             NaN            0.000000\n"
     ]
    }
   ],
   "source": [
    "print(gdp_and_internet_use.tail(5))"
   ]
  },
  {
   "cell_type": "markdown",
   "id": "e82cbac3",
   "metadata": {},
   "source": [
    "16. Subset the combined DataFrame to keep only the data for 2004, 2009, and 2014. Check that this happened correctly."
   ]
  },
  {
   "cell_type": "code",
   "execution_count": 15,
   "id": "275e4967",
   "metadata": {},
   "outputs": [
    {
     "data": {
      "text/html": [
       "<div>\n",
       "<style scoped>\n",
       "    .dataframe tbody tr th:only-of-type {\n",
       "        vertical-align: middle;\n",
       "    }\n",
       "\n",
       "    .dataframe tbody tr th {\n",
       "        vertical-align: top;\n",
       "    }\n",
       "\n",
       "    .dataframe thead th {\n",
       "        text-align: right;\n",
       "    }\n",
       "</style>\n",
       "<table border=\"1\" class=\"dataframe\">\n",
       "  <thead>\n",
       "    <tr style=\"text-align: right;\">\n",
       "      <th></th>\n",
       "      <th>Country</th>\n",
       "      <th>Year</th>\n",
       "      <th>GDP_Per_Capita</th>\n",
       "      <th>Internet_Users_Pct</th>\n",
       "    </tr>\n",
       "  </thead>\n",
       "  <tbody>\n",
       "    <tr>\n",
       "      <th>5</th>\n",
       "      <td>Afghanistan</td>\n",
       "      <td>2014</td>\n",
       "      <td>2102.385234</td>\n",
       "      <td>6.390000</td>\n",
       "    </tr>\n",
       "    <tr>\n",
       "      <th>10</th>\n",
       "      <td>Afghanistan</td>\n",
       "      <td>2009</td>\n",
       "      <td>1758.904043</td>\n",
       "      <td>3.550000</td>\n",
       "    </tr>\n",
       "    <tr>\n",
       "      <th>15</th>\n",
       "      <td>Afghanistan</td>\n",
       "      <td>2004</td>\n",
       "      <td>1200.278256</td>\n",
       "      <td>0.105809</td>\n",
       "    </tr>\n",
       "    <tr>\n",
       "      <th>23</th>\n",
       "      <td>Albania</td>\n",
       "      <td>2014</td>\n",
       "      <td>11623.866679</td>\n",
       "      <td>60.100000</td>\n",
       "    </tr>\n",
       "    <tr>\n",
       "      <th>28</th>\n",
       "      <td>Albania</td>\n",
       "      <td>2009</td>\n",
       "      <td>10346.864199</td>\n",
       "      <td>41.200000</td>\n",
       "    </tr>\n",
       "    <tr>\n",
       "      <th>...</th>\n",
       "      <td>...</td>\n",
       "      <td>...</td>\n",
       "      <td>...</td>\n",
       "      <td>...</td>\n",
       "    </tr>\n",
       "    <tr>\n",
       "      <th>7868</th>\n",
       "      <td>Virgin Islands (U.S.)</td>\n",
       "      <td>2009</td>\n",
       "      <td>NaN</td>\n",
       "      <td>27.396510</td>\n",
       "    </tr>\n",
       "    <tr>\n",
       "      <th>7873</th>\n",
       "      <td>Virgin Islands (U.S.)</td>\n",
       "      <td>2004</td>\n",
       "      <td>NaN</td>\n",
       "      <td>27.377009</td>\n",
       "    </tr>\n",
       "    <tr>\n",
       "      <th>7885</th>\n",
       "      <td>Yemen</td>\n",
       "      <td>2014</td>\n",
       "      <td>NaN</td>\n",
       "      <td>22.550000</td>\n",
       "    </tr>\n",
       "    <tr>\n",
       "      <th>7890</th>\n",
       "      <td>Yemen</td>\n",
       "      <td>2009</td>\n",
       "      <td>NaN</td>\n",
       "      <td>9.960000</td>\n",
       "    </tr>\n",
       "    <tr>\n",
       "      <th>7895</th>\n",
       "      <td>Yemen</td>\n",
       "      <td>2004</td>\n",
       "      <td>NaN</td>\n",
       "      <td>0.881223</td>\n",
       "    </tr>\n",
       "  </tbody>\n",
       "</table>\n",
       "<p>830 rows × 4 columns</p>\n",
       "</div>"
      ],
      "text/plain": [
       "                    Country  Year  GDP_Per_Capita  Internet_Users_Pct\n",
       "5               Afghanistan  2014     2102.385234            6.390000\n",
       "10              Afghanistan  2009     1758.904043            3.550000\n",
       "15              Afghanistan  2004     1200.278256            0.105809\n",
       "23                  Albania  2014    11623.866679           60.100000\n",
       "28                  Albania  2009    10346.864199           41.200000\n",
       "...                     ...   ...             ...                 ...\n",
       "7868  Virgin Islands (U.S.)  2009             NaN           27.396510\n",
       "7873  Virgin Islands (U.S.)  2004             NaN           27.377009\n",
       "7885                  Yemen  2014             NaN           22.550000\n",
       "7890                  Yemen  2009             NaN            9.960000\n",
       "7895                  Yemen  2004             NaN            0.881223\n",
       "\n",
       "[830 rows x 4 columns]"
      ]
     },
     "execution_count": 15,
     "metadata": {},
     "output_type": "execute_result"
    }
   ],
   "source": [
    "gdp_and_internet_use[(gdp_and_internet_use[\"Year\"] == 2004) | (gdp_and_internet_use[\"Year\"] == 2009) | (gdp_and_internet_use[\"Year\"] == 2014)]"
   ]
  },
  {
   "cell_type": "markdown",
   "id": "e4afe38a",
   "metadata": {},
   "source": [
    "17. Create three new DataFrames, one for 2004, one for 2009, and one for 2014. Give them meaningful names that aren't too long."
   ]
  },
  {
   "cell_type": "code",
   "execution_count": 75,
   "id": "f08f2178",
   "metadata": {},
   "outputs": [
    {
     "data": {
      "text/html": [
       "<div>\n",
       "<style scoped>\n",
       "    .dataframe tbody tr th:only-of-type {\n",
       "        vertical-align: middle;\n",
       "    }\n",
       "\n",
       "    .dataframe tbody tr th {\n",
       "        vertical-align: top;\n",
       "    }\n",
       "\n",
       "    .dataframe thead th {\n",
       "        text-align: right;\n",
       "    }\n",
       "</style>\n",
       "<table border=\"1\" class=\"dataframe\">\n",
       "  <thead>\n",
       "    <tr style=\"text-align: right;\">\n",
       "      <th></th>\n",
       "      <th>Country</th>\n",
       "      <th>Year</th>\n",
       "      <th>GDP_Per_Capita</th>\n",
       "      <th>Internet_Users_Pct</th>\n",
       "    </tr>\n",
       "  </thead>\n",
       "  <tbody>\n",
       "    <tr>\n",
       "      <th>15</th>\n",
       "      <td>Afghanistan</td>\n",
       "      <td>2004</td>\n",
       "      <td>1200.278256</td>\n",
       "      <td>0.105809</td>\n",
       "    </tr>\n",
       "    <tr>\n",
       "      <th>33</th>\n",
       "      <td>Albania</td>\n",
       "      <td>2004</td>\n",
       "      <td>7604.838002</td>\n",
       "      <td>2.420388</td>\n",
       "    </tr>\n",
       "    <tr>\n",
       "      <th>63</th>\n",
       "      <td>Algeria</td>\n",
       "      <td>2004</td>\n",
       "      <td>10058.435939</td>\n",
       "      <td>4.634475</td>\n",
       "    </tr>\n",
       "    <tr>\n",
       "      <th>93</th>\n",
       "      <td>Angola</td>\n",
       "      <td>2004</td>\n",
       "      <td>5593.241537</td>\n",
       "      <td>0.464815</td>\n",
       "    </tr>\n",
       "    <tr>\n",
       "      <th>123</th>\n",
       "      <td>Antigua and Barbuda</td>\n",
       "      <td>2004</td>\n",
       "      <td>18745.681534</td>\n",
       "      <td>24.266544</td>\n",
       "    </tr>\n",
       "    <tr>\n",
       "      <th>...</th>\n",
       "      <td>...</td>\n",
       "      <td>...</td>\n",
       "      <td>...</td>\n",
       "      <td>...</td>\n",
       "    </tr>\n",
       "    <tr>\n",
       "      <th>7771</th>\n",
       "      <td>T.F.Y.R. Macedonia</td>\n",
       "      <td>2004</td>\n",
       "      <td>NaN</td>\n",
       "      <td>24.440000</td>\n",
       "    </tr>\n",
       "    <tr>\n",
       "      <th>7829</th>\n",
       "      <td>Venezuela</td>\n",
       "      <td>2004</td>\n",
       "      <td>NaN</td>\n",
       "      <td>8.404470</td>\n",
       "    </tr>\n",
       "    <tr>\n",
       "      <th>7853</th>\n",
       "      <td>Viet Nam</td>\n",
       "      <td>2004</td>\n",
       "      <td>NaN</td>\n",
       "      <td>7.642409</td>\n",
       "    </tr>\n",
       "    <tr>\n",
       "      <th>7873</th>\n",
       "      <td>Virgin Islands (U.S.)</td>\n",
       "      <td>2004</td>\n",
       "      <td>NaN</td>\n",
       "      <td>27.377009</td>\n",
       "    </tr>\n",
       "    <tr>\n",
       "      <th>7895</th>\n",
       "      <td>Yemen</td>\n",
       "      <td>2004</td>\n",
       "      <td>NaN</td>\n",
       "      <td>0.881223</td>\n",
       "    </tr>\n",
       "  </tbody>\n",
       "</table>\n",
       "<p>276 rows × 4 columns</p>\n",
       "</div>"
      ],
      "text/plain": [
       "                    Country  Year  GDP_Per_Capita  Internet_Users_Pct\n",
       "15              Afghanistan  2004     1200.278256            0.105809\n",
       "33                  Albania  2004     7604.838002            2.420388\n",
       "63                  Algeria  2004    10058.435939            4.634475\n",
       "93                   Angola  2004     5593.241537            0.464815\n",
       "123     Antigua and Barbuda  2004    18745.681534           24.266544\n",
       "...                     ...   ...             ...                 ...\n",
       "7771     T.F.Y.R. Macedonia  2004             NaN           24.440000\n",
       "7829              Venezuela  2004             NaN            8.404470\n",
       "7853               Viet Nam  2004             NaN            7.642409\n",
       "7873  Virgin Islands (U.S.)  2004             NaN           27.377009\n",
       "7895                  Yemen  2004             NaN            0.881223\n",
       "\n",
       "[276 rows x 4 columns]"
      ]
     },
     "execution_count": 75,
     "metadata": {},
     "output_type": "execute_result"
    }
   ],
   "source": [
    "df_2004 = gdp_and_internet_use[(gdp_and_internet_use[\"Year\"] == 2004)]\n",
    "df_2009 = gdp_and_internet_use[(gdp_and_internet_use[\"Year\"] == 2009)]\n",
    "df_2014 = gdp_and_internet_use[(gdp_and_internet_use[\"Year\"] == 2014)]\n",
    "df_2004"
   ]
  },
  {
   "cell_type": "markdown",
   "id": "81ded721",
   "metadata": {},
   "source": [
    "18. Which country had the highest percentage of internet users in 2014? What was the percentage? (Try typing the first 3 letters of your DataFrame name and hitting the tab key for auto-complete options)."
   ]
  },
  {
   "cell_type": "code",
   "execution_count": 17,
   "id": "bed1c85f",
   "metadata": {},
   "outputs": [
    {
     "name": "stdout",
     "output_type": "stream",
     "text": [
      "Country                  Iceland\n",
      "Year                        2014\n",
      "GDP_Per_Capita        49652.1495\n",
      "Internet_Users_Pct         98.16\n",
      "Name: 2625, dtype: object\n"
     ]
    }
   ],
   "source": [
    "max_internet_2014 = df_2014.loc[df_2014[\"Internet_Users_Pct\"].idxmax()]\n",
    "print(max_internet_2014)"
   ]
  },
  {
   "cell_type": "markdown",
   "id": "69e5c544",
   "metadata": {},
   "source": [
    "19. Which country had the lowest percentage of internet users in 2014? What was the percentage?"
   ]
  },
  {
   "cell_type": "code",
   "execution_count": 18,
   "id": "b64db4e6",
   "metadata": {},
   "outputs": [
    {
     "name": "stdout",
     "output_type": "stream",
     "text": [
      "Country               Dem. People's Rep. of Korea\n",
      "Year                                         2014\n",
      "GDP_Per_Capita                                NaN\n",
      "Internet_Users_Pct                            0.0\n",
      "Name: 7079, dtype: object\n"
     ]
    }
   ],
   "source": [
    "min_internet_2014 = df_2014.loc[df_2014[\"Internet_Users_Pct\"].idxmin()]\n",
    "print(min_internet_2014)"
   ]
  },
  {
   "cell_type": "markdown",
   "id": "3377952d",
   "metadata": {},
   "source": [
    "20. Repeat for 2004 and 2009."
   ]
  },
  {
   "cell_type": "code",
   "execution_count": 19,
   "id": "f0eb8249",
   "metadata": {},
   "outputs": [
    {
     "name": "stdout",
     "output_type": "stream",
     "text": [
      "Country                     Sweden\n",
      "Year                          2004\n",
      "GDP_Per_Capita        44496.023401\n",
      "Internet_Users_Pct           83.89\n",
      "Name: 6019, dtype: object\n",
      "Country               Dem. People's Rep. of Korea\n",
      "Year                                         2004\n",
      "GDP_Per_Capita                                NaN\n",
      "Internet_Users_Pct                            0.0\n",
      "Name: 7088, dtype: object\n"
     ]
    }
   ],
   "source": [
    "max_internet_2004 = df_2004.loc[df_2004[\"Internet_Users_Pct\"].idxmax()]\n",
    "min_internet_2004 = df_2004.loc[df_2004[\"Internet_Users_Pct\"].idxmin()]\n",
    "print(max_internet_2004)\n",
    "print(min_internet_2004)"
   ]
  },
  {
   "cell_type": "code",
   "execution_count": 20,
   "id": "9788b58c",
   "metadata": {},
   "outputs": [
    {
     "name": "stdout",
     "output_type": "stream",
     "text": [
      "Country                    Iceland\n",
      "Year                          2009\n",
      "GDP_Per_Capita        48177.084123\n",
      "Internet_Users_Pct            93.0\n",
      "Name: 2630, dtype: object\n",
      "Country               Dem. People's Rep. of Korea\n",
      "Year                                         2009\n",
      "GDP_Per_Capita                                NaN\n",
      "Internet_Users_Pct                            0.0\n",
      "Name: 7083, dtype: object\n"
     ]
    }
   ],
   "source": [
    "max_internet_2009 = df_2009.loc[df_2009[\"Internet_Users_Pct\"].idxmax()]\n",
    "min_internet_2009 = df_2009.loc[df_2009[\"Internet_Users_Pct\"].idxmin()]\n",
    "print(max_internet_2009)\n",
    "print(min_internet_2009)"
   ]
  },
  {
   "cell_type": "markdown",
   "id": "c9f7ab62",
   "metadata": {},
   "source": [
    "21. Which country had the highest gdp per capita in 2014? What was the gdp per capita?"
   ]
  },
  {
   "cell_type": "code",
   "execution_count": 21,
   "id": "b44e92b5",
   "metadata": {},
   "outputs": [
    {
     "name": "stdout",
     "output_type": "stream",
     "text": [
      "Country               Macao SAR, China\n",
      "Year                              2014\n",
      "GDP_Per_Capita            156514.13385\n",
      "Internet_Users_Pct                 NaN\n",
      "Name: 3721, dtype: object\n"
     ]
    }
   ],
   "source": [
    "max_gdp_2014 = df_2014.loc[df_2014[\"GDP_Per_Capita\"].idxmax()]\n",
    "print(max_gdp_2014)"
   ]
  },
  {
   "cell_type": "markdown",
   "id": "7cd8f5f3",
   "metadata": {},
   "source": [
    "22. Which country had the lowest gdp per capita in 2014? What was the gdp per capita?"
   ]
  },
  {
   "cell_type": "code",
   "execution_count": 22,
   "id": "739a85e2",
   "metadata": {},
   "outputs": [
    {
     "name": "stdout",
     "output_type": "stream",
     "text": [
      "Country               Central African Republic\n",
      "Year                                      2014\n",
      "GDP_Per_Capita                      822.610458\n",
      "Internet_Users_Pct                         NaN\n",
      "Name: 1047, dtype: object\n"
     ]
    }
   ],
   "source": [
    "min_gdp_2014 = df_2014.loc[df_2014[\"GDP_Per_Capita\"].idxmin()]\n",
    "print(min_gdp_2014)"
   ]
  },
  {
   "cell_type": "markdown",
   "id": "9a84e783",
   "metadata": {},
   "source": [
    "23. Create some scatterplots:\n",
    "a. 2004 Percent Using the Internet vs GDP Per Capita\n",
    "b. 2009 Percent Using the Internet vs GDP Per Capita\n",
    "c. 2014 Percent Using the Internet vs GDP Per Capita"
   ]
  },
  {
   "cell_type": "code",
   "execution_count": 23,
   "id": "5f60105f",
   "metadata": {},
   "outputs": [
    {
     "data": {
      "image/png": "[encoded data removed]",
      "text/plain": [
       "<Figure size 432x288 with 1 Axes>"
      ]
     },
     "metadata": {
      "needs_background": "light"
     },
     "output_type": "display_data"
    }
   ],
   "source": [
    "df_2004.plot.scatter(\"Internet_Users_Pct\", \"GDP_Per_Capita\")\n",
    "plt.show()"
   ]
  },
  {
   "cell_type": "code",
   "execution_count": 24,
   "id": "3ad2e5f5",
   "metadata": {},
   "outputs": [
    {
     "data": {
      "image/png": "[encoded data removed]",
      "text/plain": [
       "<Figure size 432x288 with 1 Axes>"
      ]
     },
     "metadata": {
      "needs_background": "light"
     },
     "output_type": "display_data"
    }
   ],
   "source": [
    "df_2009.plot.scatter(\"Internet_Users_Pct\", \"GDP_Per_Capita\")\n",
    "plt.show()"
   ]
  },
  {
   "cell_type": "code",
   "execution_count": 25,
   "id": "627175a9",
   "metadata": {},
   "outputs": [
    {
     "data": {
      "image/png": "[encoded data removed]",
      "text/plain": [
       "<Figure size 432x288 with 1 Axes>"
      ]
     },
     "metadata": {
      "needs_background": "light"
     },
     "output_type": "display_data"
    }
   ],
   "source": [
    "df_2014.plot.scatter(\"Internet_Users_Pct\", \"GDP_Per_Capita\")\n",
    "plt.show()"
   ]
  },
  {
   "cell_type": "markdown",
   "id": "c0025f5e",
   "metadata": {},
   "source": [
    "24. Are there differences across years? What do the plots tell you about any relationship between these two variables? Enter your observations as a markdown cell.\n",
    "\n",
    "-There is a general shift from 2004 to 2014 of countries with higher GPD increasing the percentage of Internet users. (The Internet became more mainstream)"
   ]
  },
  {
   "cell_type": "markdown",
   "id": "9b0fca32",
   "metadata": {},
   "source": [
    "25. Look at the distribution of gdp per capita values for 2014. Is it unimodal?\n",
    "\n",
    "-Yes, there is a clear top value"
   ]
  },
  {
   "cell_type": "markdown",
   "id": "a73cf14c",
   "metadata": {},
   "source": [
    "26. Look at the distribution of Internet Use for 2014. Is it unimodal?\n",
    "\n",
    "-No, there are many countries close to the max. "
   ]
  },
  {
   "cell_type": "markdown",
   "id": "fedd4af6",
   "metadata": {},
   "source": [
    "27. What are the top 5 countries in terms of internet use in 2014?"
   ]
  },
  {
   "cell_type": "code",
   "execution_count": 26,
   "id": "f1d0e10c",
   "metadata": {},
   "outputs": [
    {
     "name": "stdout",
     "output_type": "stream",
     "text": [
      "      Country  Year  GDP_Per_Capita  Internet_Users_Pct\n",
      "2625  Iceland  2014    49652.149500               98.16\n",
      "561   Bermuda  2014    77361.104881               96.80\n",
      "4648   Norway  2014    62589.373548               96.30\n",
      "1452  Denmark  2014    52214.537753               95.99\n",
      "6871  Andorra  2014             NaN               95.90\n"
     ]
    }
   ],
   "source": [
    "print(df_2014.nlargest(n=5, columns=[\"Internet_Users_Pct\"], keep=\"first\"))"
   ]
  },
  {
   "cell_type": "markdown",
   "id": "e25b7813",
   "metadata": {},
   "source": [
    "28. Create a DataFrame called top_5_internet from the combined DataFrame that has all three years for the 5 countries that had the greatest 2014 internet usage. You should have 15 rows. Check that this is true."
   ]
  },
  {
   "cell_type": "code",
   "execution_count": 27,
   "id": "95970865",
   "metadata": {},
   "outputs": [
    {
     "name": "stdout",
     "output_type": "stream",
     "text": [
      "    Country  Year  GDP_Per_Capita  Internet_Users_Pct\n",
      "0   Bermuda  2014    77361.104881           96.800000\n",
      "1   Bermuda  2009    89961.982744           83.250000\n",
      "2   Bermuda  2004    90195.811033           60.990867\n",
      "3   Denmark  2014    52214.537753           95.990000\n",
      "4   Denmark  2009    50274.075696           86.840000\n",
      "5   Denmark  2004    50607.628971           80.930000\n",
      "6   Iceland  2014    49652.149500           98.160000\n",
      "7   Iceland  2009    48177.084123           93.000000\n",
      "8   Iceland  2004    45145.545658           83.880000\n",
      "9    Norway  2014    62589.373548           96.300000\n",
      "10   Norway  2009    61886.564498           92.080000\n",
      "11   Norway  2004    60893.410993           77.690000\n",
      "12  Andorra  2014             NaN           95.900000\n",
      "13  Andorra  2009             NaN           78.530000\n",
      "14  Andorra  2004             NaN           26.837954\n"
     ]
    }
   ],
   "source": [
    "# top_5_internet = gdp_and_internet_use.loc[(gdp_and_internet_use[\"Year\"].isin([2004, 2009, 2014])) & (gdp_and_internet_use.nlargest(n=5, columns=[\"Internet_Users_Pct\"]))]\n",
    "years_3 = gdp_and_internet_use.loc[(gdp_and_internet_use[\"Year\"].isin([2004, 2009, 2014]))]\n",
    "internet_high_5 = df_2014.nlargest(n=5, columns=[\"Internet_Users_Pct\"]).drop(columns=[\"Year\", \"GDP_Per_Capita\", \"Internet_Users_Pct\"])\n",
    "top_5_internet = pd.merge(years_3, internet_high_5, on=[\"Country\"])\n",
    "print(top_5_internet)"
   ]
  },
  {
   "cell_type": "markdown",
   "id": "b1cd56b8",
   "metadata": {},
   "source": [
    "29. Create a seaborn FacetGrid to show the internet usage trend across the years 2004, 2009, and 2014 for these 5 countries (those with the highest reported internet use in 2014). Which country had the greatest growth between 2004 and 2014?\n",
    "\n",
    "-Country with greatest growth: Andorra"
   ]
  },
  {
   "cell_type": "code",
   "execution_count": 28,
   "id": "8136d5f8",
   "metadata": {},
   "outputs": [
    {
     "data": {
      "text/plain": [
       "<seaborn.axisgrid.FacetGrid at 0x7fd8b014ac70>"
      ]
     },
     "execution_count": 28,
     "metadata": {},
     "output_type": "execute_result"
    },
    {
     "data": {
      "image/png": "[encoded data removed]",
      "text/plain": [
       "<Figure size 1080x216 with 5 Axes>"
      ]
     },
     "metadata": {
      "needs_background": "light"
     },
     "output_type": "display_data"
    }
   ],
   "source": [
    "fg_internet_max = sns.FacetGrid(top_5_internet, col=\"Country\")\n",
    "fg_internet_max.map(sns.lineplot, \"Year\", \"Internet_Users_Pct\")"
   ]
  },
  {
   "cell_type": "markdown",
   "id": "c1469d6e",
   "metadata": {},
   "source": [
    "30. Repeat the steps above to look at the trend for the 5 countries with the lowest 2014 internet usage. Which country has consistently had the least internet use?\n",
    "\n",
    "Country with least internet use = Dem. People's Rep. of Korea (North Korea)"
   ]
  },
  {
   "cell_type": "code",
   "execution_count": 29,
   "id": "475ab3a5",
   "metadata": {},
   "outputs": [
    {
     "name": "stdout",
     "output_type": "stream",
     "text": [
      "                        Country  Year  GDP_Per_Capita  Internet_Users_Pct\n",
      "0                       Burundi  2014      886.235777            1.380000\n",
      "1                       Burundi  2009      831.564131            0.900000\n",
      "2                       Burundi  2004      817.460585            0.349060\n",
      "3                   Timor-Leste  2014     3264.568070            1.140000\n",
      "4                   Timor-Leste  2009     2724.770973            0.185252\n",
      "5                   Timor-Leste  2004     2258.608056                 NaN\n",
      "6   Dem. People's Rep. of Korea  2014             NaN            0.000000\n",
      "7   Dem. People's Rep. of Korea  2009             NaN            0.000000\n",
      "8   Dem. People's Rep. of Korea  2004             NaN            0.000000\n",
      "9                       Eritrea  2014             NaN            0.990000\n",
      "10                      Eritrea  2009             NaN            0.540000\n",
      "11                      Somalia  2014             NaN            1.630000\n",
      "12                      Somalia  2009             NaN            1.160611\n",
      "13                      Somalia  2004             NaN            1.053455\n"
     ]
    }
   ],
   "source": [
    "internet_low_5 = df_2014.nsmallest(n=5, columns=[\"Internet_Users_Pct\"]).drop(columns=[\"Year\", \"GDP_Per_Capita\", \"Internet_Users_Pct\"])\n",
    "bottom_5_internet = pd.merge(years_3, internet_low_5, on=[\"Country\"])\n",
    "print(bottom_5_internet)"
   ]
  },
  {
   "cell_type": "code",
   "execution_count": 30,
   "id": "cabfe538",
   "metadata": {},
   "outputs": [
    {
     "data": {
      "text/plain": [
       "<seaborn.axisgrid.FacetGrid at 0x7fd8b3b0ad30>"
      ]
     },
     "execution_count": 30,
     "metadata": {},
     "output_type": "execute_result"
    },
    {
     "data": {
      "image/png": "[encoded data removed]",
      "text/plain": [
       "<Figure size 1080x216 with 5 Axes>"
      ]
     },
     "metadata": {
      "needs_background": "light"
     },
     "output_type": "display_data"
    }
   ],
   "source": [
    "fg_internet_min = sns.FacetGrid(bottom_5_internet, col=\"Country\")\n",
    "fg_internet_min.map(sns.lineplot, \"Year\", \"Internet_Users_Pct\")"
   ]
  },
  {
   "cell_type": "markdown",
   "id": "9f21be88",
   "metadata": {},
   "source": [
    "31. Find the top 5 countries for 2014 in terms of GDP per capita; create a DataFrame to look at 10-year trends (use 2004, 2009, 2014 to look at the 10-year trend) in gdp per capita for the 5 countries with the highest 2014 GDP per capita. Use a seaborn facet grid for this."
   ]
  },
  {
   "cell_type": "code",
   "execution_count": 31,
   "id": "51491346",
   "metadata": {},
   "outputs": [
    {
     "name": "stdout",
     "output_type": "stream",
     "text": [
      "             Country  Year  GDP_Per_Capita  Internet_Users_Pct\n",
      "0            Bermuda  2014    77361.104881           96.800000\n",
      "1            Bermuda  2009    89961.982744           83.250000\n",
      "2            Bermuda  2004    90195.811033           60.990867\n",
      "3         Luxembourg  2014   108760.916030           94.670000\n",
      "4         Luxembourg  2009   104932.811953           87.310000\n",
      "5         Luxembourg  2004   102708.212547           65.880000\n",
      "6   Macao SAR, China  2014   156514.133850                 NaN\n",
      "7   Macao SAR, China  2009    95939.340822                 NaN\n",
      "8   Macao SAR, China  2004    72944.409424                 NaN\n",
      "9              Qatar  2014    95578.416973           91.490000\n",
      "10             Qatar  2009    89954.519993           53.100000\n",
      "11             Qatar  2004    93748.301216           20.701648\n",
      "12         Singapore  2014    87808.663157           82.000000\n",
      "13         Singapore  2009    69466.581746           69.000000\n",
      "14         Singapore  2004    63901.716368           62.000000\n"
     ]
    },
    {
     "data": {
      "text/plain": [
       "<seaborn.axisgrid.FacetGrid at 0x7fd8b35314c0>"
      ]
     },
     "execution_count": 31,
     "metadata": {},
     "output_type": "execute_result"
    },
    {
     "data": {
      "image/png": "[encoded data removed]",
      "text/plain": [
       "<Figure size 1080x216 with 5 Axes>"
      ]
     },
     "metadata": {
      "needs_background": "light"
     },
     "output_type": "display_data"
    }
   ],
   "source": [
    "gdp_high_5 = df_2014.nlargest(n=5, columns=[\"GDP_Per_Capita\"]).drop(columns=[\"Year\", \"GDP_Per_Capita\", \"Internet_Users_Pct\"])\n",
    "top_5_gdp = pd.merge(years_3, gdp_high_5, on=[\"Country\"])\n",
    "print(top_5_gdp)\n",
    "fg_gdp_max = sns.FacetGrid(top_5_gdp, col=\"Country\")\n",
    "fg_gdp_max.map(sns.lineplot, \"Year\", \"GDP_Per_Capita\")"
   ]
  },
  {
   "cell_type": "markdown",
   "id": "c1383dfa",
   "metadata": {},
   "source": [
    "32. Repeat this one more time to look at 10-year trend for the 5 countries for 2014 with the lowest GDP per capita."
   ]
  },
  {
   "cell_type": "code",
   "execution_count": 32,
   "id": "81afc27f",
   "metadata": {
    "scrolled": false
   },
   "outputs": [
    {
     "name": "stdout",
     "output_type": "stream",
     "text": [
      "                     Country  Year  GDP_Per_Capita  Internet_Users_Pct\n",
      "0                    Burundi  2014      886.235777            1.380000\n",
      "1                    Burundi  2009      831.564131            0.900000\n",
      "2                    Burundi  2004      817.460585            0.349060\n",
      "3   Central African Republic  2014      822.610458                 NaN\n",
      "4   Central African Republic  2009     1161.189475                 NaN\n",
      "5   Central African Republic  2004     1037.846766                 NaN\n",
      "6            Dem. Rep. Congo  2014     1029.790785                 NaN\n",
      "7            Dem. Rep. Congo  2009      835.611696                 NaN\n",
      "8            Dem. Rep. Congo  2004      757.685942                 NaN\n",
      "9                     Malawi  2014     1027.208496            5.830000\n",
      "10                    Malawi  2009      932.867635            1.070000\n",
      "11                    Malawi  2004      775.346132            0.347505\n",
      "12                     Niger  2014     1127.615541            1.950000\n",
      "13                     Niger  2009      992.409977            0.760000\n",
      "14                     Niger  2004      929.883920            0.189934\n"
     ]
    },
    {
     "data": {
      "text/plain": [
       "<seaborn.axisgrid.FacetGrid at 0x7fd8b35d2190>"
      ]
     },
     "execution_count": 32,
     "metadata": {},
     "output_type": "execute_result"
    },
    {
     "data": {
      "image/png": "[encoded data removed]",
      "text/plain": [
       "<Figure size 1080x216 with 5 Axes>"
      ]
     },
     "metadata": {
      "needs_background": "light"
     },
     "output_type": "display_data"
    }
   ],
   "source": [
    "gdp_low_5 = df_2014.nsmallest(n=5, columns=[\"GDP_Per_Capita\"]).drop(columns=[\"Year\", \"GDP_Per_Capita\", \"Internet_Users_Pct\"])\n",
    "bottom_5_gdp = pd.merge(years_3, gdp_low_5, on=[\"Country\"])\n",
    "print(bottom_5_gdp)\n",
    "fg_gdp_min = sns.FacetGrid(bottom_5_gdp, col=\"Country\")\n",
    "fg_gdp_min.map(sns.lineplot, \"Year\", \"GDP_Per_Capita\")"
   ]
  },
  {
   "cell_type": "markdown",
   "id": "44b17677",
   "metadata": {},
   "source": [
    "33. Is there anything surprising or unusual in any of these plots? Searching on the internet, can you find any possible explanations for unusual findings?\n",
    "\n",
    "- North Koreans are not allowed access to the Internet (except for a select few)\n",
    "- Central African Republic had civil war causing drop in GDP\n",
    "- China eased travel and economic investment restrictions in Macao in the mid-to-late 2000s allowing for rapid GDP growth"
   ]
  },
  {
   "cell_type": "code",
   "execution_count": 33,
   "id": "593e978d",
   "metadata": {},
   "outputs": [
    {
     "name": "stdout",
     "output_type": "stream",
     "text": [
      "     Country or Area  Year      Value  Value Footnotes\n",
      "0        Afghanistan  2014  74.882842              NaN\n",
      "1        Afghanistan  2013  70.661359              NaN\n",
      "2        Afghanistan  2012  65.452193              NaN\n",
      "3        Afghanistan  2011  60.326320              NaN\n",
      "4        Afghanistan  2010  45.778175              NaN\n",
      "...              ...   ...        ...              ...\n",
      "8660        Zimbabwe  1976   0.000000              NaN\n",
      "8661        Zimbabwe  1975   0.000000              NaN\n",
      "8662        Zimbabwe  1970   0.000000              NaN\n",
      "8663        Zimbabwe  1965   0.000000              NaN\n",
      "8664        Zimbabwe  1960   0.000000              NaN\n",
      "\n",
      "[8665 rows x 4 columns]\n"
     ]
    }
   ],
   "source": [
    "mobile_df = pd.read_csv(\"../Data/mobile_phone.csv\")\n",
    "print(mobile_df)"
   ]
  },
  {
   "cell_type": "code",
   "execution_count": 34,
   "id": "1c88ee09",
   "metadata": {},
   "outputs": [
    {
     "name": "stdout",
     "output_type": "stream",
     "text": [
      "     Country or Area  Year      Value\n",
      "0        Afghanistan  2014  74.882842\n",
      "1        Afghanistan  2013  70.661359\n",
      "2        Afghanistan  2012  65.452193\n",
      "3        Afghanistan  2011  60.326320\n",
      "4        Afghanistan  2010  45.778175\n",
      "...              ...   ...        ...\n",
      "8660        Zimbabwe  1976   0.000000\n",
      "8661        Zimbabwe  1975   0.000000\n",
      "8662        Zimbabwe  1970   0.000000\n",
      "8663        Zimbabwe  1965   0.000000\n",
      "8664        Zimbabwe  1960   0.000000\n",
      "\n",
      "[8665 rows x 3 columns]\n"
     ]
    }
   ],
   "source": [
    "mobile_df.drop([\"Value Footnotes\"], axis=1, inplace=True)\n",
    "print(mobile_df)"
   ]
  },
  {
   "cell_type": "code",
   "execution_count": 35,
   "id": "1f62953c",
   "metadata": {},
   "outputs": [
    {
     "name": "stdout",
     "output_type": "stream",
     "text": [
      "          Country  Year  Cell_Subscr_Per_100\n",
      "0     Afghanistan  2014            74.882842\n",
      "1     Afghanistan  2013            70.661359\n",
      "2     Afghanistan  2012            65.452193\n",
      "3     Afghanistan  2011            60.326320\n",
      "4     Afghanistan  2010            45.778175\n",
      "...           ...   ...                  ...\n",
      "8660     Zimbabwe  1976             0.000000\n",
      "8661     Zimbabwe  1975             0.000000\n",
      "8662     Zimbabwe  1970             0.000000\n",
      "8663     Zimbabwe  1965             0.000000\n",
      "8664     Zimbabwe  1960             0.000000\n",
      "\n",
      "[8665 rows x 3 columns]\n"
     ]
    }
   ],
   "source": [
    "mobile_df.rename(columns = {\"Country or Area\":\"Country\",\"Value\":\"Cell_Subscr_Per_100\"}, inplace=True)\n",
    "print(mobile_df)"
   ]
  },
  {
   "cell_type": "code",
   "execution_count": 36,
   "id": "76be5338",
   "metadata": {},
   "outputs": [
    {
     "name": "stdout",
     "output_type": "stream",
     "text": [
      "           Country  Year  GDP_Per_Capita  Internet_Users_Pct  \\\n",
      "0      Afghanistan  2019     2065.036398                 NaN   \n",
      "1      Afghanistan  2018     2033.779002                 NaN   \n",
      "2      Afghanistan  2017     2058.383832                 NaN   \n",
      "3      Afghanistan  2016     2057.062164                 NaN   \n",
      "4      Afghanistan  2015     2068.265904                 NaN   \n",
      "...            ...   ...             ...                 ...   \n",
      "11622     Zimbabwe  1976             NaN                 NaN   \n",
      "11623     Zimbabwe  1975             NaN                 NaN   \n",
      "11624     Zimbabwe  1970             NaN                 NaN   \n",
      "11625     Zimbabwe  1965             NaN                 NaN   \n",
      "11626     Zimbabwe  1960             NaN                 NaN   \n",
      "\n",
      "       Cell_Subscr_Per_100  \n",
      "0                      NaN  \n",
      "1                      NaN  \n",
      "2                      NaN  \n",
      "3                      NaN  \n",
      "4                      NaN  \n",
      "...                    ...  \n",
      "11622                  0.0  \n",
      "11623                  0.0  \n",
      "11624                  0.0  \n",
      "11625                  0.0  \n",
      "11626                  0.0  \n",
      "\n",
      "[11627 rows x 5 columns]\n"
     ]
    }
   ],
   "source": [
    "gdp_internet_mobile_use = pd.merge(gdp_and_internet_use, mobile_df, on=[\"Country\", \"Year\"], how=\"outer\")\n",
    "print(gdp_internet_mobile_use)"
   ]
  },
  {
   "cell_type": "code",
   "execution_count": 76,
   "id": "1f45adf6",
   "metadata": {},
   "outputs": [
    {
     "data": {
      "text/html": [
       "<div>\n",
       "<style scoped>\n",
       "    .dataframe tbody tr th:only-of-type {\n",
       "        vertical-align: middle;\n",
       "    }\n",
       "\n",
       "    .dataframe tbody tr th {\n",
       "        vertical-align: top;\n",
       "    }\n",
       "\n",
       "    .dataframe thead th {\n",
       "        text-align: right;\n",
       "    }\n",
       "</style>\n",
       "<table border=\"1\" class=\"dataframe\">\n",
       "  <thead>\n",
       "    <tr style=\"text-align: right;\">\n",
       "      <th></th>\n",
       "      <th>Country</th>\n",
       "      <th>Year</th>\n",
       "      <th>GDP_Per_Capita</th>\n",
       "      <th>Internet_Users_Pct</th>\n",
       "      <th>Cell_Subscr_Per_100</th>\n",
       "    </tr>\n",
       "  </thead>\n",
       "  <tbody>\n",
       "    <tr>\n",
       "      <th>15</th>\n",
       "      <td>Afghanistan</td>\n",
       "      <td>2004</td>\n",
       "      <td>1200.278256</td>\n",
       "      <td>0.105809</td>\n",
       "      <td>2.498055</td>\n",
       "    </tr>\n",
       "    <tr>\n",
       "      <th>33</th>\n",
       "      <td>Albania</td>\n",
       "      <td>2004</td>\n",
       "      <td>7604.838002</td>\n",
       "      <td>2.420388</td>\n",
       "      <td>39.163957</td>\n",
       "    </tr>\n",
       "    <tr>\n",
       "      <th>63</th>\n",
       "      <td>Algeria</td>\n",
       "      <td>2004</td>\n",
       "      <td>10058.435939</td>\n",
       "      <td>4.634475</td>\n",
       "      <td>14.591207</td>\n",
       "    </tr>\n",
       "    <tr>\n",
       "      <th>93</th>\n",
       "      <td>Angola</td>\n",
       "      <td>2004</td>\n",
       "      <td>5593.241537</td>\n",
       "      <td>0.464815</td>\n",
       "      <td>4.631741</td>\n",
       "    </tr>\n",
       "    <tr>\n",
       "      <th>123</th>\n",
       "      <td>Antigua and Barbuda</td>\n",
       "      <td>2004</td>\n",
       "      <td>18745.681534</td>\n",
       "      <td>24.266544</td>\n",
       "      <td>66.080912</td>\n",
       "    </tr>\n",
       "    <tr>\n",
       "      <th>...</th>\n",
       "      <td>...</td>\n",
       "      <td>...</td>\n",
       "      <td>...</td>\n",
       "      <td>...</td>\n",
       "      <td>...</td>\n",
       "    </tr>\n",
       "    <tr>\n",
       "      <th>7969</th>\n",
       "      <td>American Samoa</td>\n",
       "      <td>2004</td>\n",
       "      <td>NaN</td>\n",
       "      <td>NaN</td>\n",
       "      <td>3.796699</td>\n",
       "    </tr>\n",
       "    <tr>\n",
       "      <th>8540</th>\n",
       "      <td>Cayman Islands</td>\n",
       "      <td>2004</td>\n",
       "      <td>NaN</td>\n",
       "      <td>NaN</td>\n",
       "      <td>71.460285</td>\n",
       "    </tr>\n",
       "    <tr>\n",
       "      <th>9016</th>\n",
       "      <td>Eritrea</td>\n",
       "      <td>2004</td>\n",
       "      <td>NaN</td>\n",
       "      <td>NaN</td>\n",
       "      <td>0.428677</td>\n",
       "    </tr>\n",
       "    <tr>\n",
       "      <th>10407</th>\n",
       "      <td>Netherlands Antilles</td>\n",
       "      <td>2004</td>\n",
       "      <td>NaN</td>\n",
       "      <td>NaN</td>\n",
       "      <td>108.930682</td>\n",
       "    </tr>\n",
       "    <tr>\n",
       "      <th>10524</th>\n",
       "      <td>Northern Marianas Islands</td>\n",
       "      <td>2004</td>\n",
       "      <td>NaN</td>\n",
       "      <td>NaN</td>\n",
       "      <td>30.954145</td>\n",
       "    </tr>\n",
       "  </tbody>\n",
       "</table>\n",
       "<p>281 rows × 5 columns</p>\n",
       "</div>"
      ],
      "text/plain": [
       "                         Country  Year  GDP_Per_Capita  Internet_Users_Pct  \\\n",
       "15                   Afghanistan  2004     1200.278256            0.105809   \n",
       "33                       Albania  2004     7604.838002            2.420388   \n",
       "63                       Algeria  2004    10058.435939            4.634475   \n",
       "93                        Angola  2004     5593.241537            0.464815   \n",
       "123          Antigua and Barbuda  2004    18745.681534           24.266544   \n",
       "...                          ...   ...             ...                 ...   \n",
       "7969              American Samoa  2004             NaN                 NaN   \n",
       "8540              Cayman Islands  2004             NaN                 NaN   \n",
       "9016                     Eritrea  2004             NaN                 NaN   \n",
       "10407       Netherlands Antilles  2004             NaN                 NaN   \n",
       "10524  Northern Marianas Islands  2004             NaN                 NaN   \n",
       "\n",
       "       Cell_Subscr_Per_100  \n",
       "15                2.498055  \n",
       "33               39.163957  \n",
       "63               14.591207  \n",
       "93                4.631741  \n",
       "123              66.080912  \n",
       "...                    ...  \n",
       "7969              3.796699  \n",
       "8540             71.460285  \n",
       "9016              0.428677  \n",
       "10407           108.930682  \n",
       "10524            30.954145  \n",
       "\n",
       "[281 rows x 5 columns]"
      ]
     },
     "execution_count": 76,
     "metadata": {},
     "output_type": "execute_result"
    }
   ],
   "source": [
    "mobile_2004 = gdp_internet_mobile_use[(gdp_internet_mobile_use[\"Year\"] == 2004)]\n",
    "mobile_2009 = gdp_internet_mobile_use[(gdp_internet_mobile_use[\"Year\"] == 2009)]\n",
    "mobile_2014 = gdp_internet_mobile_use[(gdp_internet_mobile_use[\"Year\"] == 2014)]\n",
    "mobile_2004"
   ]
  },
  {
   "cell_type": "code",
   "execution_count": 38,
   "id": "ea34c7a4",
   "metadata": {},
   "outputs": [
    {
     "data": {
      "image/png": "[encoded data removed]",
      "text/plain": [
       "<Figure size 432x288 with 1 Axes>"
      ]
     },
     "metadata": {
      "needs_background": "light"
     },
     "output_type": "display_data"
    }
   ],
   "source": [
    "mobile_2004.plot.scatter(\"Internet_Users_Pct\", \"Cell_Subscr_Per_100\")\n",
    "plt.show()"
   ]
  },
  {
   "cell_type": "code",
   "execution_count": 40,
   "id": "f668825d",
   "metadata": {},
   "outputs": [
    {
     "data": {
      "image/png": "[encoded data removed]",
      "text/plain": [
       "<Figure size 432x288 with 1 Axes>"
      ]
     },
     "metadata": {
      "needs_background": "light"
     },
     "output_type": "display_data"
    }
   ],
   "source": [
    "mobile_2009.plot.scatter(\"Internet_Users_Pct\", \"Cell_Subscr_Per_100\")\n",
    "plt.show()"
   ]
  },
  {
   "cell_type": "code",
   "execution_count": 64,
   "id": "1de2959e",
   "metadata": {},
   "outputs": [
    {
     "data": {
      "image/png": "[encoded data removed]",
      "text/plain": [
       "<Figure size 432x288 with 1 Axes>"
      ]
     },
     "metadata": {
      "needs_background": "light"
     },
     "output_type": "display_data"
    }
   ],
   "source": [
    "mobile_2014.plot.scatter(\"Internet_Users_Pct\", \"Cell_Subscr_Per_100\")\n",
    "plt.show()"
   ]
  },
  {
   "cell_type": "code",
   "execution_count": 47,
   "id": "59ce96b3",
   "metadata": {},
   "outputs": [
    {
     "name": "stdout",
     "output_type": "stream",
     "text": [
      "116       Antigua and Barbuda\n",
      "117       Antigua and Barbuda\n",
      "118       Antigua and Barbuda\n",
      "119       Antigua and Barbuda\n",
      "173                 Argentina\n",
      "                ...          \n",
      "7481             Macao, China\n",
      "7482             Macao, China\n",
      "7483             Macao, China\n",
      "7484             Macao, China\n",
      "7615    Saint Kitts and Nevis\n",
      "Name: Country, Length: 128, dtype: object\n"
     ]
    }
   ],
   "source": [
    "top_mobile = gdp_internet_mobile_use[(gdp_internet_mobile_use[\"Cell_Subscr_Per_100\"] >= 150)]\n",
    "print(top_mobile[\"Country\"])"
   ]
  },
  {
   "cell_type": "code",
   "execution_count": 48,
   "id": "25a78717",
   "metadata": {},
   "outputs": [
    {
     "name": "stdout",
     "output_type": "stream",
     "text": [
      "                  Country  Year  GDP_Per_Capita  Internet_Users_Pct  \\\n",
      "7477         Macao, China  2014             NaN           69.780000   \n",
      "7478         Macao, China  2013             NaN           65.800000   \n",
      "7479         Macao, China  2012             NaN           61.310000   \n",
      "7480         Macao, China  2011             NaN           60.203697   \n",
      "7328     Hong Kong, China  2013             NaN           74.200000   \n",
      "7327     Hong Kong, China  2014             NaN           74.560000   \n",
      "7329     Hong Kong, China  2012             NaN           72.900000   \n",
      "3215               Kuwait  2014    56647.305899           78.700000   \n",
      "7330     Hong Kong, China  2011             NaN           72.200000   \n",
      "2117                Gabon  2013    15342.172866            9.200000   \n",
      "7481         Macao, China  2010             NaN           55.198000   \n",
      "4254           Montenegro  2009    16400.263872           35.100000   \n",
      "1038       Cayman Islands  2009    70300.334857           64.500000   \n",
      "116   Antigua and Barbuda  2011    17604.417102           52.000000   \n",
      "7482         Macao, China  2009             NaN           54.000000   \n",
      "\n",
      "      Cell_Subscr_Per_100  \n",
      "7477           322.591536  \n",
      "7478           304.082101  \n",
      "7479           289.782016  \n",
      "7480           247.711605  \n",
      "7328           237.351878  \n",
      "7327           233.615177  \n",
      "7329           229.244625  \n",
      "3215           218.430285  \n",
      "7330           215.503810  \n",
      "2117           214.750038  \n",
      "7481           209.915156  \n",
      "4254           208.936113  \n",
      "1038           200.274528  \n",
      "116            199.664216  \n",
      "7482           198.877721  \n"
     ]
    }
   ],
   "source": [
    "print(gdp_internet_mobile_use.nlargest(n=15, columns=[\"Cell_Subscr_Per_100\"], keep=\"first\"))"
   ]
  },
  {
   "cell_type": "code",
   "execution_count": 83,
   "id": "b18bdecd",
   "metadata": {},
   "outputs": [
    {
     "data": {
      "image/png": "[encoded data removed]",
      "text/plain": [
       "<Figure size 432x288 with 1 Axes>"
      ]
     },
     "metadata": {
      "needs_background": "light"
     },
     "output_type": "display_data"
    }
   ],
   "source": [
    "mobile_2004.plot.hist(x = \"Country\", y = \"Cell_Subscr_Per_100\")\n",
    "plt.show()"
   ]
  },
  {
   "cell_type": "code",
   "execution_count": 78,
   "id": "e0e96da9",
   "metadata": {},
   "outputs": [
    {
     "data": {
      "image/png": "[encoded data removed]",
      "text/plain": [
       "<Figure size 432x288 with 1 Axes>"
      ]
     },
     "metadata": {
      "needs_background": "light"
     },
     "output_type": "display_data"
    }
   ],
   "source": [
    "mobile_2009.plot.hist(x = \"Country\", y = \"Cell_Subscr_Per_100\")\n",
    "plt.show()"
   ]
  },
  {
   "cell_type": "code",
   "execution_count": 79,
   "id": "c561d606",
   "metadata": {},
   "outputs": [
    {
     "data": {
      "image/png": "[encoded data removed]",
      "text/plain": [
       "<Figure size 432x288 with 1 Axes>"
      ]
     },
     "metadata": {
      "needs_background": "light"
     },
     "output_type": "display_data"
    }
   ],
   "source": [
    "mobile_2014.plot.hist(x = \"Country\", y = \"Cell_Subscr_Per_100\")\n",
    "plt.show()"
   ]
  },
  {
   "cell_type": "code",
   "execution_count": null,
   "id": "0ab7cdd9",
   "metadata": {},
   "outputs": [],
   "source": []
  }
 ],
 "metadata": {
  "kernelspec": {
   "display_name": "Python 3 (ipykernel)",
   "language": "python",
   "name": "python3"
  },
  "language_info": {
   "codemirror_mode": {
    "name": "ipython",
    "version": 3
   },
   "file_extension": ".py",
   "mimetype": "text/x-python",
   "name": "python",
   "nbconvert_exporter": "python",
   "pygments_lexer": "ipython3",
   "version": "3.9.12"
  }
 },
 "nbformat": 4,
 "nbformat_minor": 5
}
